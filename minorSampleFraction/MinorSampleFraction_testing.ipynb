{
 "cells": [
  {
   "cell_type": "markdown",
   "metadata": {},
   "source": [
    "## Classify SNP counts for mixed germline samples\n",
    "\n",
    "### Problem Statement\n",
    "The objective is to write software that classifies SNP counts for mixed germline samples (a minority sample mixed with a majority sample, e.g., through a contamination mechanism) and estimates the fraction of the minority sample. \n",
    "\n",
    "Despite counting and sequencing noise terms (and others), a best estimate of the minority sample fraction can be calculated across all alleles. \n",
    "\n",
    "The objective is then to identify which SNPs are likely to be informative (i.e., not matching the majority allele pattern) and calculate the minority sample fraction (MSF).\n",
    "\n",
    "### Output\n",
    "The output shall be two csv's. \n",
    "\n",
    "The first has three columns with one row per input file per SNP: column one contains the input file names, the second column contains the SNP ID, and the third is a flag as to whether or not that SNP is informative as defined above. \n",
    "\n",
    "The second csv has three columns with one row per input file: column one contains the input file names, and the second column contains the estimated minority sample fraction, and the third column is the uncertainty in that fraction."
   ]
  },
  {
   "cell_type": "code",
   "execution_count": 31,
   "metadata": {},
   "outputs": [],
   "source": [
    "import datetime\n",
    "import glob\n",
    "import pandas as pd\n",
    "import matplotlib.pyplot as plt\n",
    "import matplotlib.ticker as mtick"
   ]
  },
  {
   "cell_type": "code",
   "execution_count": 2,
   "metadata": {},
   "outputs": [
    {
     "name": "stdout",
     "output_type": "stream",
     "text": [
      "2020-02-14\n",
      "hw_sample\n"
     ]
    }
   ],
   "source": [
    "today_date = datetime.date.today()\n",
    "print(today_date) # created files should have the current date, so you can find errors.  time is also helpful\n",
    "# I was thining about using the string in file name, and decided against it\n",
    "my_str = \"hw_sample*\"\n",
    "newstr = my_str.replace(\"*\", \"\")\n",
    "print(newstr)"
   ]
  },
  {
   "cell_type": "code",
   "execution_count": 3,
   "metadata": {},
   "outputs": [
    {
     "name": "stdout",
     "output_type": "stream",
     "text": [
      "['hw_sample_1.csv', 'hw_sample_0.csv', 'hw_sample_2.csv', 'hw_sample_7.csv', 'hw_sample_6.csv', 'hw_sample_4.csv', 'hw_sample_5.csv']\n"
     ]
    },
    {
     "data": {
      "text/plain": [
       "array(['A', 'R', 'B', nan], dtype=object)"
      ]
     },
     "execution_count": 3,
     "metadata": {},
     "output_type": "execute_result"
    }
   ],
   "source": [
    "filenames = glob.glob('hw_sample*') # first import any number of files\n",
    "print(filenames)\n",
    "#combine all files in the list\n",
    "combined_csv = pd.concat([pd.read_csv(f) for f in filenames ], sort = True)\n",
    "# this works, but does not do error handling\n",
    "# \"new\" columns added without comment\n",
    "# extra columns added if present\n",
    "\n",
    "combined_csv.allele.unique() "
   ]
  },
  {
   "cell_type": "code",
   "execution_count": 4,
   "metadata": {},
   "outputs": [
    {
     "data": {
      "text/html": [
       "<div>\n",
       "<style scoped>\n",
       "    .dataframe tbody tr th:only-of-type {\n",
       "        vertical-align: middle;\n",
       "    }\n",
       "\n",
       "    .dataframe tbody tr th {\n",
       "        vertical-align: top;\n",
       "    }\n",
       "\n",
       "    .dataframe thead th {\n",
       "        text-align: right;\n",
       "    }\n",
       "</style>\n",
       "<table border=\"1\" class=\"dataframe\">\n",
       "  <thead>\n",
       "    <tr style=\"text-align: right;\">\n",
       "      <th></th>\n",
       "      <th>allele</th>\n",
       "      <th>allele1</th>\n",
       "      <th>count</th>\n",
       "      <th>dbSNP.ID</th>\n",
       "      <th>test</th>\n",
       "    </tr>\n",
       "  </thead>\n",
       "  <tbody>\n",
       "    <tr>\n",
       "      <td>0</td>\n",
       "      <td>A</td>\n",
       "      <td>NaN</td>\n",
       "      <td>113</td>\n",
       "      <td>rs10031144</td>\n",
       "      <td>NaN</td>\n",
       "    </tr>\n",
       "    <tr>\n",
       "      <td>1</td>\n",
       "      <td>R</td>\n",
       "      <td>NaN</td>\n",
       "      <td>162</td>\n",
       "      <td>rs10031144</td>\n",
       "      <td>NaN</td>\n",
       "    </tr>\n",
       "    <tr>\n",
       "      <td>2</td>\n",
       "      <td>R</td>\n",
       "      <td>NaN</td>\n",
       "      <td>336</td>\n",
       "      <td>rs10044327</td>\n",
       "      <td>NaN</td>\n",
       "    </tr>\n",
       "    <tr>\n",
       "      <td>3</td>\n",
       "      <td>A</td>\n",
       "      <td>NaN</td>\n",
       "      <td>353</td>\n",
       "      <td>rs10044327</td>\n",
       "      <td>NaN</td>\n",
       "    </tr>\n",
       "    <tr>\n",
       "      <td>4</td>\n",
       "      <td>A</td>\n",
       "      <td>NaN</td>\n",
       "      <td>55</td>\n",
       "      <td>rs10829589</td>\n",
       "      <td>NaN</td>\n",
       "    </tr>\n",
       "  </tbody>\n",
       "</table>\n",
       "</div>"
      ],
      "text/plain": [
       "  allele allele1 count    dbSNP.ID  test\n",
       "0      A     NaN   113  rs10031144   NaN\n",
       "1      R     NaN   162  rs10031144   NaN\n",
       "2      R     NaN   336  rs10044327   NaN\n",
       "3      A     NaN   353  rs10044327   NaN\n",
       "4      A     NaN    55  rs10829589   NaN"
      ]
     },
     "execution_count": 4,
     "metadata": {},
     "output_type": "execute_result"
    }
   ],
   "source": [
    "combined_csv.head()\n",
    "# remember to add file name"
   ]
  },
  {
   "cell_type": "code",
   "execution_count": 4,
   "metadata": {},
   "outputs": [],
   "source": [
    "def combine_files(search_text):\n",
    "    combined_file = pd.DataFrame() # create empty data frame\n",
    "    filenames = glob.glob(search_text) # first import any number of files\n",
    "    if len(filenames) == 0: # if the file is blank, let people know\n",
    "        print(\"no files\")\n",
    "        print(\"no file created\")\n",
    "        exit(2) # end the program (this will exit python) fail fast!\n",
    "    else: \n",
    "        true_columns = sorted(['dbSNP.ID', 'allele', 'count' ]) # We know the true columns\n",
    "        for file in filenames:\n",
    "            test_file = pd.read_csv(file)\n",
    "            column_list = sorted(list(test_file.columns.values))\n",
    "            if len(column_list) == 3: # if there are three columns\n",
    "                if true_columns == column_list: # if they match true headers\n",
    "                    true_allele = sorted(['A', 'R'])\n",
    "                    if true_allele == sorted(list(test_file.allele.unique())):\n",
    "                        test_file['FileName'] = file # add the file name as a column\n",
    "                        try:\n",
    "                            # test if the count column really is numbers\n",
    "                            test_file['count'] = test_file['count'].astype(float)\n",
    "                            \n",
    "                            combined_file = combined_file.append(test_file,ignore_index=True) \n",
    "                            print(file, \"file added\") # this may be impractical if there are hundreds of files\n",
    "                        except ValueError:\n",
    "                            print(file, \"count column includes non-numbers\")\n",
    "                        \n",
    "                    else:\n",
    "                        print(file, \"wrong allele list\", test_file.allele.unique())\n",
    "                        # Another source of error could be that the file was set up wrong.  \n",
    "                        # This is only one way it could be wrong.  Another could be in SNP name and Count NAN\n",
    "                else:\n",
    "                    print(file, \"columns do not match\", column_list)\n",
    "            else:\n",
    "                print(file, \"too many columns\", column_list)\n",
    "        #export to csv\n",
    "        new_file_name = str(datetime.date.today()) + \"combined_file.csv\"\n",
    "        combined_file.to_csv(new_file_name, index=False) # save the file before doing calculations\n",
    "        print(new_file_name,\" file created\")\n",
    "    return(combined_file)"
   ]
  },
  {
   "cell_type": "code",
   "execution_count": 5,
   "metadata": {},
   "outputs": [
    {
     "name": "stdout",
     "output_type": "stream",
     "text": [
      "hw_sample_1.csv file added\n",
      "hw_sample_0.csv file added\n",
      "hw_sample_2.csv file added\n",
      "hw_sample_7.csv count column includes non-numbers\n",
      "hw_sample_6.csv wrong allele list ['B' 'R']\n",
      "hw_sample_4.csv too many columns ['allele1', 'count', 'dbSNP.ID', 'test']\n",
      "hw_sample_5.csv columns do not match ['allele1', 'count', 'dbSNP.ID']\n",
      "2020-02-14combined_file.csv  file created\n"
     ]
    }
   ],
   "source": [
    "file1 = combine_files('hw_sample*')"
   ]
  },
  {
   "cell_type": "code",
   "execution_count": 7,
   "metadata": {},
   "outputs": [],
   "source": [
    "def label_informative(data_frame):\n",
    "    # spread the columns (make the two alleles each their own column)\n",
    "    stacked_file = data_frame.pivot_table(index=['dbSNP.ID', 'FileName'], columns='allele', values='count') \n",
    "    stacked_file = stacked_file.reset_index() # I don't like working with two columns as \"index\"\n",
    "    stacked_file = stacked_file.fillna(0) # if either A or R had no values, we fill them with zero\n",
    "    # caluclate the frequency of A allele, R is not needed as freq_A + freq_R = 1\n",
    "    stacked_file['freq_A'] = stacked_file['A']/(stacked_file['R']+ stacked_file['A'])\n",
    "    # we want those with low A and with low R.  Subtracting freq_A from 0.5 gets us low A\n",
    "    # using the absolute value (abs) gives us both low R and low A\n",
    "    stacked_file['abs_A'] = abs(stacked_file['freq_A'] - 0.5)\n",
    "    # we want to label those with frequency (A or R) > 0.8 as informative\n",
    "    stacked_file.loc[stacked_file.abs_A > 0.3, 'informative'] = 'True' \n",
    "    stacked_file.loc[stacked_file.abs_A <= 0.3, 'informative'] = 'False' \n",
    "    # there are some SNP's with very low counts, possibly due to read error\n",
    "    # I chose to ignore those with counts less than 2% as uninformative\n",
    "    stacked_file.loc[stacked_file.abs_A > 0.48, 'informative'] = 'False'\n",
    "    new_file_name = str(datetime.date.today()) + \"_labels_output_1.csv\"\n",
    "    # the exercise said to create a file with orig file name, SNP and informative-ness\n",
    "    output_1 = stacked_file[['FileName','dbSNP.ID', 'informative' ]]\n",
    "    output_1.to_csv(new_file_name, index = False)\n",
    "    print(new_file_name,\" file created\")\n",
    "    return(stacked_file)"
   ]
  },
  {
   "cell_type": "code",
   "execution_count": 8,
   "metadata": {},
   "outputs": [
    {
     "name": "stdout",
     "output_type": "stream",
     "text": [
      "2020-02-14_labels_output_1.csv  file created\n",
      "['dbSNP.ID', 'FileName', 'A', 'R', 'freq_A', 'abs_A', 'informative']\n"
     ]
    },
    {
     "data": {
      "text/html": [
       "<div>\n",
       "<style scoped>\n",
       "    .dataframe tbody tr th:only-of-type {\n",
       "        vertical-align: middle;\n",
       "    }\n",
       "\n",
       "    .dataframe tbody tr th {\n",
       "        vertical-align: top;\n",
       "    }\n",
       "\n",
       "    .dataframe thead th {\n",
       "        text-align: right;\n",
       "    }\n",
       "</style>\n",
       "<table border=\"1\" class=\"dataframe\">\n",
       "  <thead>\n",
       "    <tr style=\"text-align: right;\">\n",
       "      <th>allele</th>\n",
       "      <th>dbSNP.ID</th>\n",
       "      <th>FileName</th>\n",
       "      <th>A</th>\n",
       "      <th>R</th>\n",
       "      <th>freq_A</th>\n",
       "      <th>abs_A</th>\n",
       "      <th>informative</th>\n",
       "    </tr>\n",
       "  </thead>\n",
       "  <tbody>\n",
       "    <tr>\n",
       "      <td>0</td>\n",
       "      <td>rs10031144</td>\n",
       "      <td>hw_sample_0.csv</td>\n",
       "      <td>63.0</td>\n",
       "      <td>85.0</td>\n",
       "      <td>0.425676</td>\n",
       "      <td>0.074324</td>\n",
       "      <td>False</td>\n",
       "    </tr>\n",
       "    <tr>\n",
       "      <td>1</td>\n",
       "      <td>rs10031144</td>\n",
       "      <td>hw_sample_1.csv</td>\n",
       "      <td>113.0</td>\n",
       "      <td>162.0</td>\n",
       "      <td>0.410909</td>\n",
       "      <td>0.089091</td>\n",
       "      <td>False</td>\n",
       "    </tr>\n",
       "    <tr>\n",
       "      <td>2</td>\n",
       "      <td>rs10031144</td>\n",
       "      <td>hw_sample_2.csv</td>\n",
       "      <td>99.0</td>\n",
       "      <td>112.0</td>\n",
       "      <td>0.469194</td>\n",
       "      <td>0.030806</td>\n",
       "      <td>False</td>\n",
       "    </tr>\n",
       "    <tr>\n",
       "      <td>3</td>\n",
       "      <td>rs10044327</td>\n",
       "      <td>hw_sample_0.csv</td>\n",
       "      <td>241.0</td>\n",
       "      <td>260.0</td>\n",
       "      <td>0.481038</td>\n",
       "      <td>0.018962</td>\n",
       "      <td>False</td>\n",
       "    </tr>\n",
       "    <tr>\n",
       "      <td>4</td>\n",
       "      <td>rs10044327</td>\n",
       "      <td>hw_sample_1.csv</td>\n",
       "      <td>353.0</td>\n",
       "      <td>336.0</td>\n",
       "      <td>0.512337</td>\n",
       "      <td>0.012337</td>\n",
       "      <td>False</td>\n",
       "    </tr>\n",
       "  </tbody>\n",
       "</table>\n",
       "</div>"
      ],
      "text/plain": [
       "allele    dbSNP.ID         FileName      A      R    freq_A     abs_A  \\\n",
       "0       rs10031144  hw_sample_0.csv   63.0   85.0  0.425676  0.074324   \n",
       "1       rs10031144  hw_sample_1.csv  113.0  162.0  0.410909  0.089091   \n",
       "2       rs10031144  hw_sample_2.csv   99.0  112.0  0.469194  0.030806   \n",
       "3       rs10044327  hw_sample_0.csv  241.0  260.0  0.481038  0.018962   \n",
       "4       rs10044327  hw_sample_1.csv  353.0  336.0  0.512337  0.012337   \n",
       "\n",
       "allele informative  \n",
       "0            False  \n",
       "1            False  \n",
       "2            False  \n",
       "3            False  \n",
       "4            False  "
      ]
     },
     "execution_count": 8,
     "metadata": {},
     "output_type": "execute_result"
    }
   ],
   "source": [
    "test1 = label_informative(file1)\n",
    "\n",
    "print(list(test1.columns))\n",
    "test1.head()"
   ]
  },
  {
   "cell_type": "code",
   "execution_count": 19,
   "metadata": {},
   "outputs": [
    {
     "data": {
      "image/png": "[encoded data removed]",
      "text/plain": [
       "<Figure size 432x288 with 1 Axes>"
      ]
     },
     "metadata": {
      "needs_background": "light"
     },
     "output_type": "display_data"
    }
   ],
   "source": [
    "plt.hist(test1['freq_A'], 50, density=True, facecolor='g')\n",
    "plt.xlabel('frequency of A')\n",
    "plt.ylabel('count of each frequency')\n",
    "plt.title('Histogram of A Allele, each bar = 2%')\n",
    "plt.grid(True)\n",
    "plt.show()"
   ]
  },
  {
   "cell_type": "markdown",
   "metadata": {},
   "source": [
    "### Comments on data distribution\n",
    "In the histogram above there are three populations, those homologous for allele A, those with homologus for allele R, and those heterlogous for both alleles.   The population that is homologous for R (frequency of A < 20%) has very little contamination (35 SNPs with <2% contamination). The SNPs with <2% contamination could be due to counting and sequencing noise.  I decided to remove those from the minority sample fraction. The population that is heterlogous for both alleles is the center group (frequency 0.36-0.76). If we are looking at contamination, we want to look at those alleles with majority homologous for either allele.  In this dataset a clear cut off could be applied at 80% and 20%.  With a larger dataset, this cut off may not work, especially if the contamination increases beyond 20%."
   ]
  },
  {
   "cell_type": "code",
   "execution_count": 22,
   "metadata": {},
   "outputs": [],
   "source": [
    "# minority sample fraction = MSF\n",
    "def find_MSF(data_frame):\n",
    "    contam_data = data_frame.loc[data_frame['informative'] == 'True'].copy()\n",
    "    contam_data['MSF'] = abs(contam_data['abs_A'] - 0.5)\n",
    "    # uncertanty can be a measure of the error around the mean.  \n",
    "    # I am chosing standard deviation (std) and standard error (sem).\n",
    "    minor_sample_fraction = contam_data.groupby(['FileName'], as_index = False).agg(\n",
    "        {'MSF': ['mean', 'count','std', 'sem']})\n",
    "    new_file_name = str(datetime.date.today()) + \"MSF_output2.csv\"\n",
    "    minor_sample_fraction.to_csv(new_file_name, index = False) # save the file before doing calculations\n",
    "    return(minor_sample_fraction)    "
   ]
  },
  {
   "cell_type": "code",
   "execution_count": 25,
   "metadata": {},
   "outputs": [
    {
     "name": "stdout",
     "output_type": "stream",
     "text": [
      "[('FileName', ''), ('MSF', 'mean'), ('MSF', 'count'), ('MSF', 'std'), ('MSF', 'sem')]\n"
     ]
    },
    {
     "data": {
      "text/html": [
       "<div>\n",
       "<style scoped>\n",
       "    .dataframe tbody tr th:only-of-type {\n",
       "        vertical-align: middle;\n",
       "    }\n",
       "\n",
       "    .dataframe tbody tr th {\n",
       "        vertical-align: top;\n",
       "    }\n",
       "\n",
       "    .dataframe thead tr th {\n",
       "        text-align: left;\n",
       "    }\n",
       "</style>\n",
       "<table border=\"1\" class=\"dataframe\">\n",
       "  <thead>\n",
       "    <tr>\n",
       "      <th></th>\n",
       "      <th>FileName</th>\n",
       "      <th colspan=\"4\" halign=\"left\">MSF</th>\n",
       "    </tr>\n",
       "    <tr>\n",
       "      <th></th>\n",
       "      <th></th>\n",
       "      <th>mean</th>\n",
       "      <th>count</th>\n",
       "      <th>std</th>\n",
       "      <th>sem</th>\n",
       "    </tr>\n",
       "  </thead>\n",
       "  <tbody>\n",
       "    <tr>\n",
       "      <td>0</td>\n",
       "      <td>hw_sample_0.csv</td>\n",
       "      <td>0.049034</td>\n",
       "      <td>16</td>\n",
       "      <td>0.023410</td>\n",
       "      <td>0.005852</td>\n",
       "    </tr>\n",
       "    <tr>\n",
       "      <td>1</td>\n",
       "      <td>hw_sample_1.csv</td>\n",
       "      <td>0.075821</td>\n",
       "      <td>27</td>\n",
       "      <td>0.046313</td>\n",
       "      <td>0.008913</td>\n",
       "    </tr>\n",
       "    <tr>\n",
       "      <td>2</td>\n",
       "      <td>hw_sample_2.csv</td>\n",
       "      <td>0.092295</td>\n",
       "      <td>25</td>\n",
       "      <td>0.053442</td>\n",
       "      <td>0.010688</td>\n",
       "    </tr>\n",
       "  </tbody>\n",
       "</table>\n",
       "</div>"
      ],
      "text/plain": [
       "          FileName       MSF                          \n",
       "                        mean count       std       sem\n",
       "0  hw_sample_0.csv  0.049034    16  0.023410  0.005852\n",
       "1  hw_sample_1.csv  0.075821    27  0.046313  0.008913\n",
       "2  hw_sample_2.csv  0.092295    25  0.053442  0.010688"
      ]
     },
     "execution_count": 25,
     "metadata": {},
     "output_type": "execute_result"
    }
   ],
   "source": [
    "test2 = find_MSF(test1)\n",
    "print(list(test2.columns))\n",
    "test2"
   ]
  },
  {
   "cell_type": "code",
   "execution_count": 39,
   "metadata": {},
   "outputs": [
    {
     "data": {
      "image/png": "[encoded data removed]",
      "text/plain": [
       "<Figure size 432x288 with 1 Axes>"
      ]
     },
     "metadata": {
      "needs_background": "light"
     },
     "output_type": "display_data"
    }
   ],
   "source": [
    "plt.barh(test2['FileName'], 100* test2[('MSF', 'mean')], xerr=100*test2[('MSF', 'sem')], align='center')\n",
    "plt.xlabel('percent contamination')\n",
    "#plt.ylabel('sample name')\n",
    "plt.title('Mean contamination for each sample, with standard error')\n",
    "plt.grid(True)\n",
    "plt.show()\n"
   ]
  },
  {
   "cell_type": "code",
   "execution_count": 35,
   "metadata": {},
   "outputs": [],
   "source": []
  },
  {
   "cell_type": "markdown",
   "metadata": {},
   "source": [
    "NIPT: assume that the minority fraction sample is related to the majority sample as in the\n",
    "case of fetal DNA in a maternal background. How do your assumptions about the fetal\n",
    "fraction calculation change from the contamination case?\n",
    "Oncology: assume that the minority fraction sample is derived from germline in the form of\n",
    "heterogeneous tumor DNA (say after relapse) in a germline cell-free DNA background.\n",
    "If your implementation was more bare-bones, how would you identify and test more robust\n",
    "software solutions that could be implemented in production code in a regulated\n",
    "environment? If assay/target improvements are desired, what would you ask for from the\n",
    "assay team?"
   ]
  },
  {
   "attachments": {},
   "cell_type": "markdown",
   "metadata": {},
   "source": [
    "## Conclusions\n",
    "Here we calculated the percent contamination to be less than 10% for all samples.  Sample_0 had the least contamination (5%), and Sample_2 had the most contamination (9%).  \n",
    "\n",
    "When looking at the raw data, three SNPs were not informative for Sample_2 (rs12492157, rs4855031, and rs965308), but were informative for the other samples.  These SNPs were all slightly more than 20% R allele.  They could be contamination, which would increase the contamination for Sample_2.\n",
    "\n",
    "If we are looking for the fetal fraction of the sample, I would \n"
   ]
  }
 ],
 "metadata": {
  "kernelspec": {
   "display_name": "Python 3",
   "language": "python",
   "name": "python3"
  },
  "language_info": {
   "codemirror_mode": {
    "name": "ipython",
    "version": 3
   },
   "file_extension": ".py",
   "mimetype": "text/x-python",
   "name": "python",
   "nbconvert_exporter": "python",
   "pygments_lexer": "ipython3",
   "version": "3.7.4"
  }
 },
 "nbformat": 4,
 "nbformat_minor": 2
}

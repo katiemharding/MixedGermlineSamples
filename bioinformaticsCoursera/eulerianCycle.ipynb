{
 "cells": [
  {
   "cell_type": "markdown",
   "metadata": {},
   "source": [
    "## Week 2 How do we assemble genomes"
   ]
  },
  {
   "cell_type": "markdown",
   "metadata": {},
   "source": [
    "### example pseudo-code\n",
    "\n",
    "EulerianCycle(Graph):\n",
    "\n",
    "        form a cycle Cycle by randomly walking in Graph (don't visit the same edge twice!)\n",
    "        \n",
    "        while there are unexplored edges in Graph\n",
    "            \n",
    "            select a node newStart in Cycle with still unexplored edges\n",
    "            form Cycle’ by traversing Cycle (starting at newStart) and then randomly walking \n",
    "            Cycle ← Cycle’\n",
    "        return Cycle"
   ]
  },
  {
   "cell_type": "code",
   "execution_count": 74,
   "metadata": {},
   "outputs": [],
   "source": [
    "import random"
   ]
  },
  {
   "cell_type": "code",
   "execution_count": 75,
   "metadata": {},
   "outputs": [],
   "source": [
    "## first get the data, and create a dictionary (multiple paths from node seperated by commas)\n",
    "file_name = open(\"EulerianCycle/inputs/sample.txt\")\n",
    "# creates a dictionary from each line in the file\n",
    "node_dict = dict((line.strip().split(' -> ') for line in file_name)) \n",
    "for node in node_dict: \n",
    "    # splits the nodes so that if there are two paths from a node, they appear as a list seperated by a omma\n",
    "    node_dict[node] = node_dict[node].split (',') "
   ]
  },
  {
   "cell_type": "code",
   "execution_count": 76,
   "metadata": {},
   "outputs": [
    {
     "data": {
      "text/plain": [
       "{'0': ['3'],\n",
       " '1': ['0'],\n",
       " '2': ['1', '6'],\n",
       " '3': ['2'],\n",
       " '4': ['2'],\n",
       " '5': ['4'],\n",
       " '6': ['5', '8'],\n",
       " '7': ['9'],\n",
       " '8': ['7'],\n",
       " '9': ['6']}"
      ]
     },
     "execution_count": 76,
     "metadata": {},
     "output_type": "execute_result"
    }
   ],
   "source": [
    "node_dict"
   ]
  },
  {
   "cell_type": "code",
   "execution_count": 77,
   "metadata": {},
   "outputs": [],
   "source": [
    "# I want to work with the nodes as a tuple (immutable index)\n",
    "def generate_edges(graph):\n",
    "    # We need to work with a list of each node and it's following node\n",
    "    edges=[]\n",
    "    for node in graph:\n",
    "        for neighbour in graph[node]:\n",
    "            edges.append((node,neighbour)) # append node and the following node\n",
    "            # note this is a tuple, an ordered indexed data type.  Can't change a tuple.\n",
    "    return edges"
   ]
  },
  {
   "cell_type": "code",
   "execution_count": 78,
   "metadata": {},
   "outputs": [
    {
     "name": "stdout",
     "output_type": "stream",
     "text": [
      "[('0', '3'), ('1', '0'), ('2', '1'), ('2', '6'), ('3', '2'), ('4', '2'), ('5', '4'), ('6', '5'), ('6', '8'), ('7', '9'), ('8', '7'), ('9', '6')] All\n",
      "0 first node\n",
      "('0', '3') First node and second node\n"
     ]
    }
   ],
   "source": [
    "print(generate_edges(node_dict), \"All\")\n",
    "print(generate_edges(node_dict)[0][0], \"first node\")\n",
    "print(generate_edges(node_dict)[0], \"First node and second node\")"
   ]
  },
  {
   "cell_type": "code",
   "execution_count": 79,
   "metadata": {},
   "outputs": [],
   "source": [
    "nodes_tuple = generate_edges(node_dict)\n",
    "current_node = 6\n"
   ]
  },
  {
   "cell_type": "code",
   "execution_count": 80,
   "metadata": {},
   "outputs": [],
   "source": [
    "def NextValue(current_node, nodes_tuple):\n",
    "    possible_nexts = []\n",
    "    for node in nodes_tuple: # for each of the nodes provided\n",
    "        if int(node[0]) == current_node: # find the current node\n",
    "            possible_nexts.append(node[1]) # note, this will return two values\n",
    "    next_value = random.choice(possible_nexts) # I return one at random\n",
    "    return(next_value)"
   ]
  },
  {
   "cell_type": "code",
   "execution_count": 81,
   "metadata": {},
   "outputs": [
    {
     "data": {
      "text/plain": [
       "'8'"
      ]
     },
     "execution_count": 81,
     "metadata": {},
     "output_type": "execute_result"
    }
   ],
   "source": [
    "NextValue(6,nodes_tuple)"
   ]
  },
  {
   "cell_type": "code",
   "execution_count": 96,
   "metadata": {},
   "outputs": [],
   "source": [
    "def eulerianCycle(graph):\n",
    "    n = random.choice(list(graph.keys()))\n",
    "    nodes_tuple = generate_edges(node_dict)\n",
    "    current_node = n\n",
    "    circuit_list = [] # answer \n",
    "    stack = [] # collection of the list\n",
    "\n",
    "    while True:\n",
    "        if any(current_node == x[0] for x in nodes_tuple) == False:\n",
    "            # False only happens when nodes_tuple is empty (no where to go)\n",
    "            # if the nodes tuple is broken, it will go here with remaining nodes\n",
    "            # this appends stack to circuit until stack is empty\n",
    "            circuit_list.append(current_node) # add the last position to the list\n",
    "            # note this will be backwards\n",
    "            if stack==[]:\n",
    "                break # stop if stack is empty and there are no new positions after all have been used\n",
    "            current_node = stack[-1] # go back one item\n",
    "            #print(current_node, \"current node fase\")\n",
    "            stack.pop() # remove the last item from the list\n",
    "            \n",
    "        else:\n",
    "            stack.append(current_node) # add this random value to the stack\n",
    "            nextV=NextValue(int(current_node),nodes_tuple)  # find the next node\n",
    "            nodes_tuple.remove((current_node,nextV)) # remove the \"used\" value from the list\n",
    "            current_node = nextV # start over with next value\n",
    "            # this secton runs until nodes_tuple is empty\n",
    "    return(circuit_list[::-1]) "
   ]
  },
  {
   "cell_type": "code",
   "execution_count": 97,
   "metadata": {},
   "outputs": [
    {
     "data": {
      "text/plain": [
       "['2', '1', '0', '3', '2', '6', '8', '7', '9', '6', '5', '4', '2']"
      ]
     },
     "execution_count": 97,
     "metadata": {},
     "output_type": "execute_result"
    }
   ],
   "source": [
    "eulerianCycle(node_dict)"
   ]
  },
  {
   "cell_type": "code",
   "execution_count": 48,
   "metadata": {},
   "outputs": [],
   "source": [
    "def node_tester(current_node, nodes_tuple):\n",
    "    if any(current_node == x[0] for x in nodes_tuple) == False:\n",
    "        print(current_node, \"false\")\n",
    "    else:\n",
    "        print (current_node, \"true\")"
   ]
  },
  {
   "cell_type": "code",
   "execution_count": 51,
   "metadata": {},
   "outputs": [
    {
     "name": "stdout",
     "output_type": "stream",
     "text": [
      "6 false\n",
      "9 false\n",
      "10 false\n",
      "3 false\n",
      "2 false\n"
     ]
    }
   ],
   "source": [
    "node_tester(6,nodes_tuple)\n",
    "node_tester(9,nodes_tuple)\n",
    "node_tester(10,nodes_tuple)\n",
    "node_tester(3,nodes_tuple)\n",
    "node_tester(2,nodes_tuple)"
   ]
  },
  {
   "cell_type": "code",
   "execution_count": 98,
   "metadata": {},
   "outputs": [
    {
     "name": "stdout",
     "output_type": "stream",
     "text": [
      "8->7->9->6->5->4->2->1->0->3->2->6->8\n"
     ]
    }
   ],
   "source": [
    "answer =eulerianCycle(node_dict)\n",
    "print(\"->\".join(answer))"
   ]
  },
  {
   "cell_type": "code",
   "execution_count": null,
   "metadata": {},
   "outputs": [],
   "source": [
    "import random\n",
    "import sys\n",
    "\n",
    "def generate_edges(graph):\n",
    "    # We need to work with a list of each node and it's following node\n",
    "    edges=[]\n",
    "    for node in graph:\n",
    "        for neighbour in graph[node]:\n",
    "            edges.append((node,neighbour)) # append node and the following node\n",
    "            # note this is a tuple, an ordered indexed data type.  Can't change a tuple.\n",
    "    return(edges)\n",
    "\n",
    "def NextValue(current_node, nodes_tuple):\n",
    "    possible_nexts = []\n",
    "    for node in nodes_tuple: # for each of the nodes provided\n",
    "        if int(node[0]) == current_node: # find the current node\n",
    "            possible_nexts.append(node[1]) # note, this will return two values\n",
    "    next_value = random.choice(possible_nexts) # I return one at random\n",
    "    return(next_value)\n",
    "\n",
    "def eulerianCycle(graph):\n",
    "    n = random.choice(list(graph.keys()))\n",
    "    nodes_tuple = generate_edges(node_dict)\n",
    "    current_node = n\n",
    "    circuit_list = [] # answer \n",
    "    stack = [] # collection of the list\n",
    "\n",
    "    while True:\n",
    "        if any(current_node == x[0] for x in nodes_tuple) == False:\n",
    "            # False only happens when nodes_tuple is empty (no where to go)\n",
    "            # if the nodes tuple is broken, it will go here with remaining nodes\n",
    "            # this appends stack to circuit until stack is empty\n",
    "            circuit_list.append(current_node) # add the last position to the list\n",
    "            # note this will be backwards\n",
    "            if stack==[]:\n",
    "                break # stop if stack is empty and there are no new positions after all have been used\n",
    "            current_node = stack[-1] # go back one item\n",
    "            #print(current_node, \"current node fase\")\n",
    "            stack.pop() # remove the last item from the list\n",
    "            \n",
    "        else:\n",
    "            stack.append(current_node) # add this random value to the stack\n",
    "            nextV=NextValue(int(current_node),nodes_tuple)  # find the next node\n",
    "            nodes_tuple.remove((current_node,nextV)) # remove the \"used\" value from the list\n",
    "            current_node = nextV # start over with next value\n",
    "            # this secton runs until nodes_tuple is empty\n",
    "    return(circuit_list[::-1]) \n",
    "\n",
    "if __name__ == '__main__':\n",
    "    ## first get the data, and create a dictionary (multiple paths from node seperated by commas)\n",
    "    # input_list = [line.rstrip() for line in sys.stdin]\n",
    "    new_file = open(sys.argv[1])\n",
    "    # creates a dictionary from each line in the file\n",
    "    node_dict = dict((line.strip().split(' -> ') for line in new_file))\n",
    "    print(node_dict, \"node dict\")\n",
    "    for node in node_dict:\n",
    "        # splits the nodes so that if there are two paths from a node, they appear as a list seperated by a omma\n",
    "        node_dict[node] = node_dict[node].split (',')\n",
    "    \n",
    "    answer =eulerianCycle(node_dict)\n",
    "    print(\"->\".join(answer))"
   ]
  }
 ],
 "metadata": {
  "kernelspec": {
   "display_name": "Python 3",
   "language": "python",
   "name": "python3"
  },
  "language_info": {
   "codemirror_mode": {
    "name": "ipython",
    "version": 3
   },
   "file_extension": ".py",
   "mimetype": "text/x-python",
   "name": "python",
   "nbconvert_exporter": "python",
   "pygments_lexer": "ipython3",
   "version": "3.7.4"
  }
 },
 "nbformat": 4,
 "nbformat_minor": 2
}

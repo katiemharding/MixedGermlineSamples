{
 "cells": [
  {
   "cell_type": "markdown",
   "metadata": {},
   "source": [
    "## Week 2 How do we assemble genomes"
   ]
  },
  {
   "cell_type": "markdown",
   "metadata": {},
   "source": [
    "### example pseudo-code\n",
    "\n",
    "EulerianCycle(Graph):\n",
    "\n",
    "        form a cycle Cycle by randomly walking in Graph (don't visit the same edge twice!)\n",
    "        \n",
    "        while there are unexplored edges in Graph\n",
    "            \n",
    "            select a node newStart in Cycle with still unexplored edges\n",
    "            form Cycle’ by traversing Cycle (starting at newStart) and then randomly walking \n",
    "            Cycle ← Cycle’\n",
    "        return Cycle"
   ]
  },
  {
   "cell_type": "code",
   "execution_count": 1,
   "metadata": {},
   "outputs": [],
   "source": [
    "import random"
   ]
  },
  {
   "cell_type": "code",
   "execution_count": 75,
   "metadata": {},
   "outputs": [],
   "source": [
    "## first get the data, and create a dictionary (multiple paths from node seperated by commas)\n",
    "file_name = open(\"EulerianCycle/inputs/sample.txt\")\n",
    "# creates a dictionary from each line in the file\n",
    "node_dict = dict((line.strip().split(' -> ') for line in file_name)) \n",
    "for node in node_dict: \n",
    "    # splits the nodes so that if there are two paths from a node, they appear as a list seperated by a omma\n",
    "    node_dict[node] = node_dict[node].split (',') "
   ]
  },
  {
   "cell_type": "code",
   "execution_count": 76,
   "metadata": {},
   "outputs": [
    {
     "data": {
      "text/plain": [
       "{'0': ['3'],\n",
       " '1': ['0'],\n",
       " '2': ['1', '6'],\n",
       " '3': ['2'],\n",
       " '4': ['2'],\n",
       " '5': ['4'],\n",
       " '6': ['5', '8'],\n",
       " '7': ['9'],\n",
       " '8': ['7'],\n",
       " '9': ['6']}"
      ]
     },
     "execution_count": 76,
     "metadata": {},
     "output_type": "execute_result"
    }
   ],
   "source": [
    "node_dict"
   ]
  },
  {
   "cell_type": "code",
   "execution_count": 77,
   "metadata": {},
   "outputs": [],
   "source": [
    "# I want to work with the nodes as a tuple (immutable index)\n",
    "def generate_edges(graph):\n",
    "    # We need to work with a list of each node and it's following node\n",
    "    edges=[]\n",
    "    for node in graph:\n",
    "        for neighbour in graph[node]:\n",
    "            edges.append((node,neighbour)) # append node and the following node\n",
    "            # note this is a tuple, an ordered indexed data type.  Can't change a tuple.\n",
    "    return edges"
   ]
  },
  {
   "cell_type": "code",
   "execution_count": 78,
   "metadata": {},
   "outputs": [
    {
     "name": "stdout",
     "output_type": "stream",
     "text": [
      "[('0', '3'), ('1', '0'), ('2', '1'), ('2', '6'), ('3', '2'), ('4', '2'), ('5', '4'), ('6', '5'), ('6', '8'), ('7', '9'), ('8', '7'), ('9', '6')] All\n",
      "0 first node\n",
      "('0', '3') First node and second node\n"
     ]
    }
   ],
   "source": [
    "print(generate_edges(node_dict), \"All\")\n",
    "print(generate_edges(node_dict)[0][0], \"first node\")\n",
    "print(generate_edges(node_dict)[0], \"First node and second node\")"
   ]
  },
  {
   "cell_type": "code",
   "execution_count": 79,
   "metadata": {},
   "outputs": [],
   "source": [
    "nodes_tuple = generate_edges(node_dict)\n",
    "current_node = 6\n"
   ]
  },
  {
   "cell_type": "code",
   "execution_count": 80,
   "metadata": {},
   "outputs": [],
   "source": [
    "def NextValue(current_node, nodes_tuple):\n",
    "    possible_nexts = []\n",
    "    for node in nodes_tuple: # for each of the nodes provided\n",
    "        if int(node[0]) == current_node: # find the current node\n",
    "            possible_nexts.append(node[1]) # note, this will return two values\n",
    "    next_value = random.choice(possible_nexts) # I return one at random\n",
    "    return(next_value)"
   ]
  },
  {
   "cell_type": "code",
   "execution_count": 81,
   "metadata": {},
   "outputs": [
    {
     "data": {
      "text/plain": [
       "'8'"
      ]
     },
     "execution_count": 81,
     "metadata": {},
     "output_type": "execute_result"
    }
   ],
   "source": [
    "NextValue(6,nodes_tuple)"
   ]
  },
  {
   "cell_type": "code",
   "execution_count": 72,
   "metadata": {},
   "outputs": [],
   "source": [
    "def eulerianCycle(graph):\n",
    "    n = random.choice(list(graph.keys()))\n",
    "    nodes_tuple = generate_edges(graph)\n",
    "    current_node = n\n",
    "    circuit_list = [] # answer \n",
    "    stack = [] # collection of the list\n",
    "\n",
    "    while True:\n",
    "        if any(current_node == x[0] for x in nodes_tuple) == False:\n",
    "            # False only happens when nodes_tuple is empty (no where to go)\n",
    "            # if the nodes tuple is broken, it will go here with remaining nodes\n",
    "            # this appends stack to circuit until stack is empty\n",
    "            circuit_list.append(current_node) # add the last position to the list\n",
    "            # note this will be backwards\n",
    "            if stack==[]:\n",
    "                break # stop if stack is empty and there are no new positions after all have been used\n",
    "            current_node = stack[-1] # go back one item\n",
    "            #print(current_node, \"current node fase\")\n",
    "            stack.pop() # remove the last item from the list\n",
    "            \n",
    "        else:\n",
    "            stack.append(current_node) # add this random value to the stack\n",
    "            nextV=NextValue(int(current_node),nodes_tuple)  # find the next node\n",
    "            nodes_tuple.remove((current_node,nextV)) # remove the \"used\" value from the list\n",
    "            current_node = nextV # start over with next value\n",
    "            # this secton runs until nodes_tuple is empty\n",
    "    return(circuit_list[::-1]) "
   ]
  },
  {
   "cell_type": "code",
   "execution_count": 97,
   "metadata": {},
   "outputs": [
    {
     "data": {
      "text/plain": [
       "['2', '1', '0', '3', '2', '6', '8', '7', '9', '6', '5', '4', '2']"
      ]
     },
     "execution_count": 97,
     "metadata": {},
     "output_type": "execute_result"
    }
   ],
   "source": [
    "eulerianCycle(node_dict)"
   ]
  },
  {
   "cell_type": "code",
   "execution_count": 48,
   "metadata": {},
   "outputs": [],
   "source": [
    "def node_tester(current_node, nodes_tuple):\n",
    "    if any(current_node == x[0] for x in nodes_tuple) == False:\n",
    "        print(current_node, \"false\")\n",
    "    else:\n",
    "        print (current_node, \"true\")"
   ]
  },
  {
   "cell_type": "code",
   "execution_count": 51,
   "metadata": {},
   "outputs": [
    {
     "name": "stdout",
     "output_type": "stream",
     "text": [
      "6 false\n",
      "9 false\n",
      "10 false\n",
      "3 false\n",
      "2 false\n"
     ]
    }
   ],
   "source": [
    "node_tester(6,nodes_tuple)\n",
    "node_tester(9,nodes_tuple)\n",
    "node_tester(10,nodes_tuple)\n",
    "node_tester(3,nodes_tuple)\n",
    "node_tester(2,nodes_tuple)"
   ]
  },
  {
   "cell_type": "code",
   "execution_count": 98,
   "metadata": {},
   "outputs": [
    {
     "name": "stdout",
     "output_type": "stream",
     "text": [
      "8->7->9->6->5->4->2->1->0->3->2->6->8\n"
     ]
    }
   ],
   "source": [
    "answer =eulerianCycle(node_dict)\n",
    "print(\"->\".join(answer))"
   ]
  },
  {
   "cell_type": "code",
   "execution_count": 104,
   "metadata": {},
   "outputs": [],
   "source": [
    "import random\n",
    "import sys\n",
    "\n",
    "\n",
    "def generate_edges(graph):\n",
    "    # We need to work with a list of each node and it's following node\n",
    "    edges=[]\n",
    "    for node in graph:\n",
    "        for neighbour in graph[node]:\n",
    "            edges.append((node,neighbour)) # append node and the following node\n",
    "            # note this is a tuple, an ordered indexed data type.  Can't change a tuple.\n",
    "    return(edges)\n",
    "\n",
    "def NextValue(current_node, nodes_tuple):\n",
    "    possible_nexts = []\n",
    "    for node in nodes_tuple: # for each of the nodes provided\n",
    "        if int(node[0]) == current_node: # find the current node\n",
    "            possible_nexts.append(node[1]) # note, this will return two values\n",
    "    next_value = random.choice(possible_nexts) # I return one at random\n",
    "    return(next_value)\n",
    "\n",
    "def eulerianCycle(graph):\n",
    "    n = random.choice(list(graph.keys()))\n",
    "    nodes_tuple = generate_edges(graph)\n",
    "    current_node = n\n",
    "    circuit_list = [] # answer \n",
    "    stack = [] # collection of the list\n",
    "\n",
    "    while True:\n",
    "        if any(current_node == x[0] for x in nodes_tuple) == False:\n",
    "            # False only happens when nodes_tuple is empty (no where to go)\n",
    "            # if the nodes tuple is broken, it will go here with remaining nodes\n",
    "            # this appends stack to circuit until stack is empty\n",
    "            circuit_list.append(current_node) # add the last position to the list\n",
    "            # note this will be backwards\n",
    "            if stack==[]:\n",
    "                break # stop if stack is empty and there are no new positions after all have been used\n",
    "            current_node = stack[-1] # go back one item\n",
    "            #print(current_node, \"current node fase\")\n",
    "            stack.pop() # remove the last item from the list\n",
    "            \n",
    "        else:\n",
    "            stack.append(current_node) # add this random value to the stack\n",
    "            nextV=NextValue(int(current_node),nodes_tuple)  # find the next node\n",
    "            nodes_tuple.remove((current_node,nextV)) # remove the \"used\" value from the list\n",
    "            current_node = nextV # start over with next value\n",
    "            # this secton runs until nodes_tuple is empty\n",
    "    return(circuit_list[::-1]) \n",
    "\n"
   ]
  },
  {
   "cell_type": "code",
   "execution_count": null,
   "metadata": {},
   "outputs": [],
   "source": [
    "# don't run this, only works for code challenges\n",
    "if __name__ == '__main__':\n",
    "    ## first get the data, and create a dictionary (multiple paths from node seperated by commas)\n",
    "    # input_list = [line.rstrip() for line in sys.stdin]\n",
    "    new_file = open(sys.argv[1])\n",
    "    # creates a dictionary from each line in the file\n",
    "    node_dict = dict((line.strip().split(' -> ') for line in new_file))\n",
    "    print(node_dict, \"node dict\")\n",
    "    for node in node_dict:\n",
    "        # splits the nodes so that if there are two paths from a node, they appear as a list seperated by a omma\n",
    "        node_dict[node] = node_dict[node].split (',')\n",
    "    \n",
    "    answer =eulerianCycle(node_dict)\n",
    "    print(\"->\".join(answer))"
   ]
  },
  {
   "cell_type": "markdown",
   "metadata": {},
   "source": [
    "### Next question:  if the cycle is unbalanced solve:\n"
   ]
  },
  {
   "cell_type": "code",
   "execution_count": 106,
   "metadata": {},
   "outputs": [],
   "source": [
    "## first get the data, and create a dictionary (multiple paths from node seperated by commas)\n",
    "file_name = open(\"EulerianPath/inputs/test1.txt\")\n",
    "# creates a dictionary from each line in the file\n",
    "node_dict = dict((line.strip().split(' -> ') for line in file_name)) \n",
    "for node in node_dict: \n",
    "    # splits the nodes so that if there are two paths from a node, they appear as a list seperated by a omma\n",
    "    node_dict[node] = node_dict[node].split (',') "
   ]
  },
  {
   "cell_type": "code",
   "execution_count": 107,
   "metadata": {},
   "outputs": [
    {
     "data": {
      "text/plain": [
       "{'0': ['1'], '1': ['2'], '2': ['3']}"
      ]
     },
     "execution_count": 107,
     "metadata": {},
     "output_type": "execute_result"
    }
   ],
   "source": [
    "node_dict"
   ]
  },
  {
   "cell_type": "code",
   "execution_count": 105,
   "metadata": {},
   "outputs": [],
   "source": [
    "import random\n",
    "import sys\n",
    "import copy\n",
    "\n",
    "def eulerian_path(edge_dict):\n",
    "    # Returns an Eulerian path from the given edges.\n",
    "    # First determine the unbalanced edges.\n",
    "    # future additions: if this is a cycle, it breaks.  It has to be unbalanced to run\n",
    "    unbalanced_from = None\n",
    "    nodes_tuple = generate_edges(edge_dict)\n",
    "    out_values = [x[1] for x in nodes_tuple] # find each out value in tuple (second of pair)\n",
    "    for node in set(out_values+list(edge_dict.keys())): # set finds unique values\n",
    "        out_value = out_values.count(node) # counts the output repeats\n",
    "        # for each node find in and out count\n",
    "        if node in edge_dict:\n",
    "            in_value = len(edge_dict[node]) # counts the repeats\n",
    "        else:\n",
    "            in_value = 0 # otherwise gives zero\n",
    "        # the start point will have one more key than it's values\n",
    "        # the end point will have less key than it's values\n",
    "        if in_value < out_value: # if fewer in values then this is start\n",
    "            unbalanced_to = node\n",
    "        \n",
    "        elif out_value < in_value: # if fewer out values this is end\n",
    "            unbalanced_from = node\n",
    "           \n",
    "    edge_dict2 = copy.deepcopy(edge_dict) # I got tired of rerunning the initial code\n",
    "    if unbalanced_from is None:\n",
    "        cycle = eulerianCycle(edge_dict2)\n",
    "    # Add an edge connecting the unbalanced edges.  The edge may already exist in the dictionary.\n",
    "    else:\n",
    "        if unbalanced_from in edge_dict:\n",
    "            edge_dict2[unbalanced_from].append(unbalanced_to)\n",
    "        else:\n",
    "            edge_dict2[unbalanced_from] = [unbalanced_to]\n",
    "        cycle = eulerianCycle_withStart(edge_dict2, unbalanced_from) # I made the start point the start of unbalanced\n",
    "    # print(\"start\", unbalanced_from, \"end\", unbalanced_to)\n",
    "    # note that this includes the last point as well, need to remove from list\n",
    "    return(cycle)\n",
    "\n",
    "def generate_edges(graph):\n",
    "    # We need to work with a list of each node and it's following node\n",
    "    edges=[]\n",
    "    for node in graph:\n",
    "        for neighbour in graph[node]:\n",
    "            edges.append((node,neighbour)) # append node and the following node\n",
    "            # note this is a tuple, an ordered indexed data type.  Can't change a tuple.\n",
    "    return(edges)\n",
    "\n",
    "def NextValue(current_node, nodes_tuple):\n",
    "    possible_nexts = []\n",
    "    for node in nodes_tuple: # for each of the nodes provided\n",
    "        if node[0] == current_node: # find the current node\n",
    "            possible_nexts.append(node[1]) # note, this will return two values\n",
    "    next_value = random.choice(possible_nexts) # I return one at random\n",
    "    return(next_value)\n",
    "\n",
    "def eulerianCycle_withStart(graph, n ):\n",
    "    # n = random.choice(list(graph.keys()))\n",
    "    nodes_tuple = generate_edges(graph)\n",
    "    current_node = n\n",
    "    circuit_list = [] # answer \n",
    "    stack = [] # collection of the list\n",
    "\n",
    "    while True:\n",
    "        if any(current_node == x[0] for x in nodes_tuple) == False:\n",
    "            # False only happens when nodes_tuple is empty (no where to go)\n",
    "            # if the nodes tuple is broken, it will go here with remaining nodes\n",
    "            # this appends stack to circuit until stack is empty\n",
    "            circuit_list.append(current_node) # add the last position to the list\n",
    "            # note this will be backwards\n",
    "            if stack==[]:\n",
    "                break # stop if stack is empty and there are no new positions after all have been used\n",
    "            current_node = stack[-1] # go back one item\n",
    "            #print(current_node, \"current node fase\")\n",
    "            stack.pop() # remove the last item from the list\n",
    "            \n",
    "        else:\n",
    "            stack.append(current_node) # add this random value to the stack\n",
    "            nextV=NextValue(current_node,nodes_tuple)  # find the next node\n",
    "            nodes_tuple.remove((current_node,nextV)) # remove the \"used\" value from the list\n",
    "            current_node = nextV # start over with next value\n",
    "            # this secton runs until nodes_tuple is empty\n",
    "    return(circuit_list[::-1]) \n"
   ]
  },
  {
   "cell_type": "code",
   "execution_count": 103,
   "metadata": {},
   "outputs": [
    {
     "name": "stdout",
     "output_type": "stream",
     "text": [
      "a\n"
     ]
    }
   ],
   "source": [
    "try: a\n",
    "except NameError: a = None\n",
    "if a is None:\n",
    "    print(\"a\")"
   ]
  },
  {
   "cell_type": "code",
   "execution_count": 108,
   "metadata": {},
   "outputs": [
    {
     "name": "stdout",
     "output_type": "stream",
     "text": [
      "0->1->2->3->3\n"
     ]
    }
   ],
   "source": [
    "answer = eulerian_path(node_dict)\n",
    "print(\"->\".join(answer))"
   ]
  },
  {
   "cell_type": "code",
   "execution_count": 67,
   "metadata": {},
   "outputs": [
    {
     "ename": "TypeError",
     "evalue": "expected str, bytes or os.PathLike object, not _io.TextIOWrapper",
     "output_type": "error",
     "traceback": [
      "\u001b[0;31m---------------------------------------------------------------------------\u001b[0m",
      "\u001b[0;31mTypeError\u001b[0m                                 Traceback (most recent call last)",
      "\u001b[0;32m<ipython-input-67-074e817ff123>\u001b[0m in \u001b[0;36m<module>\u001b[0;34m\u001b[0m\n\u001b[1;32m      2\u001b[0m     \u001b[0;31m## first get the data, and create a dictionary (multiple paths from node seperated by commas)\u001b[0m\u001b[0;34m\u001b[0m\u001b[0;34m\u001b[0m\u001b[0;34m\u001b[0m\u001b[0m\n\u001b[1;32m      3\u001b[0m     \u001b[0;31m# input_list = [line.rstrip() for line in sys.stdin]\u001b[0m\u001b[0;34m\u001b[0m\u001b[0;34m\u001b[0m\u001b[0;34m\u001b[0m\u001b[0m\n\u001b[0;32m----> 4\u001b[0;31m     \u001b[0mnew_file\u001b[0m \u001b[0;34m=\u001b[0m \u001b[0mopen\u001b[0m\u001b[0;34m(\u001b[0m\u001b[0msys\u001b[0m\u001b[0;34m.\u001b[0m\u001b[0mstdin\u001b[0m\u001b[0;34m)\u001b[0m\u001b[0;34m\u001b[0m\u001b[0;34m\u001b[0m\u001b[0m\n\u001b[0m\u001b[1;32m      5\u001b[0m     \u001b[0;31m# creates a dictionary from each line in the file\u001b[0m\u001b[0;34m\u001b[0m\u001b[0;34m\u001b[0m\u001b[0;34m\u001b[0m\u001b[0m\n\u001b[1;32m      6\u001b[0m     \u001b[0mnode_dict\u001b[0m \u001b[0;34m=\u001b[0m \u001b[0mdict\u001b[0m\u001b[0;34m(\u001b[0m\u001b[0;34m(\u001b[0m\u001b[0mline\u001b[0m\u001b[0;34m.\u001b[0m\u001b[0mstrip\u001b[0m\u001b[0;34m(\u001b[0m\u001b[0;34m)\u001b[0m\u001b[0;34m.\u001b[0m\u001b[0msplit\u001b[0m\u001b[0;34m(\u001b[0m\u001b[0;34m' -> '\u001b[0m\u001b[0;34m)\u001b[0m \u001b[0;32mfor\u001b[0m \u001b[0mline\u001b[0m \u001b[0;32min\u001b[0m \u001b[0mnew_file\u001b[0m\u001b[0;34m)\u001b[0m\u001b[0;34m)\u001b[0m\u001b[0;34m\u001b[0m\u001b[0;34m\u001b[0m\u001b[0m\n",
      "\u001b[0;31mTypeError\u001b[0m: expected str, bytes or os.PathLike object, not _io.TextIOWrapper"
     ]
    }
   ],
   "source": [
    "# don't run this, only works for code challenges\n",
    "if __name__ == '__main__':\n",
    "    # first get the data, and create a dictionary (multiple paths from node seperated by commas)\n",
    "    # new_file = open(sys.stdin) # this is for running from the command line\n",
    "    # creates a dictionary from each line in the file\n",
    "    # sys.stdin is needed for the stepic code test.\n",
    "    node_dict = dict((line.strip().split(' -> ') for line in sys.stdin))\n",
    "    # print(node_dict, \"node dict\")\n",
    "    for node in node_dict:\n",
    "        # splits the nodes so that if there are two paths from a node, they appear as a list seperated by a comma\n",
    "        node_dict[node] = node_dict[node].split (',')\n",
    "    \n",
    "    answer =eulerian_path(node_dict)\n",
    "    print(\"->\".join(answer))"
   ]
  },
  {
   "cell_type": "code",
   "execution_count": null,
   "metadata": {},
   "outputs": [],
   "source": [
    "if 5 in out_values:\n",
    "    in_value = len(node_dict)"
   ]
  },
  {
   "cell_type": "code",
   "execution_count": 111,
   "metadata": {},
   "outputs": [
    {
     "name": "stdout",
     "output_type": "stream",
     "text": [
      "['0', '1', '2', '3', '3', '6', '6', '7', '8', '9']\n",
      "['2', '3', '1', '0', '4', '3', '7', '8', '9', '6']\n"
     ]
    },
    {
     "data": {
      "text/plain": [
       "[('0', '2'),\n",
       " ('1', '3'),\n",
       " ('2', '1'),\n",
       " ('3', '0'),\n",
       " ('3', '4'),\n",
       " ('6', '3'),\n",
       " ('6', '7'),\n",
       " ('7', '8'),\n",
       " ('8', '9'),\n",
       " ('9', '6')]"
      ]
     },
     "execution_count": 111,
     "metadata": {},
     "output_type": "execute_result"
    }
   ],
   "source": [
    "tuple1 = generate_edges(node_dict)\n",
    "keys = [x[0] for x in tuple1]\n",
    "print(keys)\n",
    "values = [x[1] for x in tuple1]\n",
    "print(values)\n",
    "tuple1"
   ]
  },
  {
   "cell_type": "code",
   "execution_count": 112,
   "metadata": {},
   "outputs": [
    {
     "data": {
      "text/plain": [
       "{'0', '1', '2', '3', '4', '6', '7', '8', '9'}"
      ]
     },
     "execution_count": 112,
     "metadata": {},
     "output_type": "execute_result"
    }
   ],
   "source": [
    "set(values+keys)# find unique"
   ]
  },
  {
   "cell_type": "markdown",
   "metadata": {},
   "source": [
    "### String Reconstruction Problem\n",
    "\n",
    "We can therefore summarize this solution using the following pseudocode, which relies on three problems that we have already solved:\n",
    "\n",
    "1) The de Bruijn Graph Construction Problem\n",
    "2) The Eulerian Path Problem\n",
    "3) The String Spelled by a Genome Path Problem\n"
   ]
  },
  {
   "cell_type": "code",
   "execution_count": 46,
   "metadata": {},
   "outputs": [],
   "source": [
    "## first get the data, and create a dictionary (multiple paths from node seperated by commas)\n",
    "file_name = open(\"StringReconstruction/inputs/dataset_203_7.txt\")\n",
    "# creates a dictionary from each line in the file\n",
    "list1 = file_name.read().split()\n",
    "k = (list1[0])\n",
    "kmers = list1[1:]\n",
    "# print(k,kmers)"
   ]
  },
  {
   "cell_type": "code",
   "execution_count": 36,
   "metadata": {},
   "outputs": [],
   "source": [
    "### DeBruijn\n",
    "#Create a dictionary matching (k-1)-mers to their followers.\n",
    "\n",
    "def deBruijnGraph(kmers):\n",
    "    k = len(kmers[0])\n",
    "    graph = {}\n",
    "    for i in range(len(kmers)):\n",
    "        try:\n",
    "            graph[kmers[i][:-1]].append(kmers[i][1:])\n",
    "        except:\n",
    "            graph[kmers[i][:-1]] = [kmers[i][1:]]\n",
    "    return(graph)\n",
    "\n",
    "### The String Spelled by a Genome Path Problem\n",
    "# Put the path into genome\n",
    "def reconstruct(kmers):\n",
    "    genomePath = kmers[0]\n",
    "    for i in range(1, len(kmers)):\n",
    "        genomePath += kmers[i][-1]\n",
    "    return(genomePath)\n"
   ]
  },
  {
   "cell_type": "code",
   "execution_count": 45,
   "metadata": {},
   "outputs": [
    {
     "data": {
      "text/plain": [
       "'ATTGGGGTCGCGGCCGAATGCCCTGCATGAAAGGGCAACCCAATTCGCGTACGACCTACTCCAGCGCCCCGAGCCATTTCTGGTTGAACGCTCCGCTCGTACACAATTGCAGGAGCGGCCACGTCCCAGGTATTGGTGCCCCTAAGAGGACAGTTACCTGACGTACAGATGACAATAAACAAAGTACTCAACGTTGAGGTTGGCCTACGAGAACCTACAAGACGGCTAACAGAGATTCCTTGCTTCTTCAAGCGCCGCACGGCTCTATTATTAGCTTAAAGGCTTTTCACATCTGTAAATTATTCTCGGATCTCGTCCGCATGTATAAAGGCCTAGAAGGCCTCTACACGTGGTTCATTCGAAGCGGTCATTAAATCGGACCGAAGTCATGATCACACAAAATACACCCTTGTCGATTTGCCTACTCCTTAACTTGATGCGTCATTAAGTACAATATACATGATAACTCGATGGTTCATGTCAGTGAAATCCCGAGTCAAAGGGAGTTCCTCAATCGCTGGGAGCGAAGTTAATAGGCTACTGAATCATCGATATATAACCCACTCTCTGTCGAAGCGATGAGCTTGGACAGATCGCGGTGCGGCCTATTCACTTATCCCGACTGCAAGACGTTTCCCATTTACTGAGTAACTTTGAGGGCCTATTCATCCACTGAGTACCCGTAGAATATCGGACATTTCGTCTTCCTGATCGAGTAAGGACAGGGCCTATGTTAGTAAGCGGCACACTACCAATTTCTTTCCGTTATGCAGTGGAGCGTTAACCTGGCCAACTCTCTGCGAAGAGTTTCATAGGGCACACCTCCTTATGTTGAGCTAAGGTAATAACATTAGAAGGGGAAGAACTGAAGATGCGTCCATCTCTTTTTTATGAGGATGAATCTCCTAGAAGATCATTGAGGATCAGGCGGCATTGATGCGGCGTTTAAGTGAGGATTCCGTGGCGTCAGCAATTCGAGCGATTGTATTATTCTATACACTATCCCACTGTGATTTAGGCTATGGACTGCAGCCTATAGAAGAGACTCCGTGTGGTGATGGGGGCAACCCGTGGGGGTTCGCCTATGGAGGGAGGAGAGTATCTGCAGTTGCAAAGAATTTCTAGTATTCAATACGCGAATAGAACTGGGGGGTAGGGTGGTCGGAGCTGAAAGACTGTCATGGTTAACCAGATATTGATCATAGTCTACTAATGTACGTTGAAGAGGCGACATCATAGGTAGTCCGATACAGCTTGACGTCTCATGCTTGGCTTTGGCTACAAATTTGCTGCAATACTCCGGCAGATTCGCATTCACAACGTAGACAAGTTCAGTGTACGTACTACGAGATAACCCTCTCAAACGGTAAGTACGCCTATCAAACGAGCGACGTTGCTTCGGGACGGAACCGCGTAAGAAAAGTGGCAAAGTGGGCGCAACCTCATTTTTCGTGCTAGATAGCGGGGGGTGCGTCTCCTGGCGACGCATGAGAGTGCTCTAGCAACAGTTCTGCTCTGGCGAACCAATACCGAGCCGTCGAAATCTCAAAGATCAAGGGGGCCCAGTAAGGCGTGAAAACAGTTAGGTCGAGCATTTCGCCTGGGCGGAGCATTGATGTAAACCGCTAGAATGCCTAGCACCCGGCGCGAAATGTGGACCACGTTCTGGCAATCACATTGTTTCGTGTTAGTGCCCCGCCGAGCAGCTTTCATCCAGGAATTTTTGCCAGCAGTCTACTGACTTTCGAAAGGTCTATTATTGGGGCGGTACTGCTATGCTGTAGAGCCCACGTTAGGCCCTAGATATCCCTCTTGGACTTTGTTGTAATGAGTTTATCATGAAGATCTCCTCAGGGTTTTGAGTTCTGGCGAACCTCACCTGGAGACATTTTGGCGCTCTGTCCTACTCGGAGTGTGCGCTCAGACGCCCTCAGCTACCTTTTGCGATTTAGGCTATCCCACGTGGACTGCCGACAACGTCTCAGTCGGCCGATGATCTACCATATAAAGCACCAAATCCCCGCAGCGGACTGTAATCGCTCTGCTCTCCTGTTATTCACGATGCAAAAGCTCACACATCCTTGGTCAGAGCAATCGACGACCACTACGAGGAAGGCGGCTACCTATAACGTGCGATGAGCTCCATCGTTTAGCGAGCTTGGTTCCTGTATTATGAGCTCCCCAAACGCAGGGTCACTCCTGCAACTAACTAGCGGGCGTACCAGGGAATGTTTAGGGGG'"
      ]
     },
     "execution_count": 45,
     "metadata": {},
     "output_type": "execute_result"
    }
   ],
   "source": [
    "answer = eulerian_path(deBruijnGraph(kmers))\n",
    "reconstruct(answer)[:-1]"
   ]
  },
  {
   "cell_type": "code",
   "execution_count": null,
   "metadata": {},
   "outputs": [],
   "source": [
    "# note the problem is not in the code check section\n",
    "if __name__ == '__main__':\n",
    "    # first get the data, and create a dictionary (multiple paths from node seperated by commas)\n",
    "    # new_file = open(sys.stdin) # this is for running from the command line\n",
    "    # creates a dictionary from each line in the file\n",
    "    # sys.stdin is needed for the stepic code test.\n",
    "    list1 = list((line.strip().split(' -> ') for line in sys.stdin))\n",
    "    k = (list1[0])\n",
    "    kmers = list1[1:]\n",
    "    answer = eulerian_path(deBruijnGraph(kmers))\n",
    "    reconstruct(answer)[:-1]"
   ]
  },
  {
   "cell_type": "markdown",
   "metadata": {},
   "source": [
    "### Solve the k-Universal Circular String Problem.\n",
    "Input: An integer k.\n",
    "Output: A k-universal circular string."
   ]
  },
  {
   "cell_type": "code",
   "execution_count": 48,
   "metadata": {},
   "outputs": [],
   "source": [
    "from itertools import product"
   ]
  },
  {
   "cell_type": "code",
   "execution_count": 61,
   "metadata": {},
   "outputs": [
    {
     "data": {
      "text/plain": [
       "{'000': ['000', '001'],\n",
       " '001': ['010', '011'],\n",
       " '010': ['100', '101'],\n",
       " '011': ['110', '111'],\n",
       " '100': ['000', '001'],\n",
       " '101': ['010', '011'],\n",
       " '110': ['100', '101'],\n",
       " '111': ['110', '111']}"
      ]
     },
     "execution_count": 61,
     "metadata": {},
     "output_type": "execute_result"
    }
   ],
   "source": [
    "deBruijnGraph([''.join(item) for item in product('01', repeat=4)])"
   ]
  },
  {
   "cell_type": "code",
   "execution_count": 79,
   "metadata": {},
   "outputs": [
    {
     "name": "stdout",
     "output_type": "stream",
     "text": [
      "519 answer length\n",
      "real length 512\n"
     ]
    }
   ],
   "source": [
    "answer_cycle = eulerianCycle(deBruijnGraph([''.join(item) for item in product('01', repeat=9)]))\n",
    "answer = reconstruct(answer_cycle)[:-1] # removing the last one accounts for duplicates (it's a cycle)\n",
    "#0000110010111101\n",
    "print(len(answer), \"answer length\")\n",
    "print(\"real length\", 2**9)"
   ]
  },
  {
   "cell_type": "code",
   "execution_count": 88,
   "metadata": {},
   "outputs": [],
   "source": [
    "def universal_cycle(k_str):\n",
    "    k = int(k_str) \n",
    "    universal_dict = {}\n",
    "    for kmer in [''.join(item) for item in product('01', repeat=k)]:\n",
    "        if kmer[:-1] in universal_dict:\n",
    "            universal_dict[kmer[:-1]].append(kmer[1:])\n",
    "        else:\n",
    "            universal_dict[kmer[:-1]] = [kmer[1:]]\n",
    "    answer_cycle = eulerianCycle(universal_dict)\n",
    "    answer = reconstruct(answer_cycle)[:-(k-1)] # the duplicates are k-1\n",
    "    return(answer)\n",
    "\n",
    "# to run on the skeptic page\n",
    "if __name__ == '__main__':\n",
    "    k_str = sys.stdin\n",
    "    print(universal_cycle(\"\".join(map(str, k_str))))\n"
   ]
  },
  {
   "cell_type": "code",
   "execution_count": 91,
   "metadata": {},
   "outputs": [
    {
     "name": "stdout",
     "output_type": "stream",
     "text": [
      "512 answer length\n",
      "real length 512\n"
     ]
    },
    {
     "data": {
      "text/plain": [
       "'01101011100000000011100001111111110010100100111001011110011110101100110011010000000101101111010001010000101010111101111111011100100101000100000111101101010011101000011101100001011111100011111011001000110011101111000010001001101011011000100011100110001010110001110101011010001111001000000100111100010111011011100010010010000110100110111110000011000110000001101110111010111110100111110011011001111110101000110101010100101110011100011011011010010001011001011000001010011001001100001100101011101001010100000100001001'"
      ]
     },
     "execution_count": 91,
     "metadata": {},
     "output_type": "execute_result"
    }
   ],
   "source": [
    "#0000110010111101\n",
    "print(len(universal_cycle(9)), \"answer length\")\n",
    "print(\"real length\", 2**9)\n",
    "universal_cycle(9)"
   ]
  },
  {
   "cell_type": "code",
   "execution_count": 116,
   "metadata": {},
   "outputs": [
    {
     "name": "stdout",
     "output_type": "stream",
     "text": [
      "['AAT|CAT', 'ATG|ATG', 'ATG|ATG', 'CAT|GAT', 'CCA|GGA', 'GCC|GGG', 'GGG|GTT', 'TAA|CCA', 'TGC|TGG', 'TGG|TGT']\n"
     ]
    }
   ],
   "source": [
    "# Generate the (3,2)-mer composition of TAATGCCATGGGATGTT \n",
    "k = 3\n",
    "gap = 2\n",
    "string = 'TAATGCCATGGGATGTT'\n",
    "\n",
    "answer = []\n",
    "for base in range(len(string)-((2*k+gap)-1)):\n",
    "    answer.append((string[base:base+k]+ \"|\"+string[base+k+gap:base+k+gap+k]))\n",
    "print(sorted(answer))"
   ]
  },
  {
   "cell_type": "markdown",
   "metadata": {},
   "source": [
    "### Solve the String Reconstruction from Read-Pairs Problem"
   ]
  },
  {
   "cell_type": "code",
   "execution_count": 90,
   "metadata": {},
   "outputs": [
    {
     "name": "stdout",
     "output_type": "stream",
     "text": [
      "4 k value\n",
      " 2 deletions value\n",
      "\n"
     ]
    }
   ],
   "source": [
    "## first get the data, and create a dictionary (multiple paths from node seperated by commas)\n",
    "with open(\"PairedStringReconstruction/inputs/test3.txt\") as file:\n",
    "    #dataset_204_16\n",
    "    # creates a dictionary from each line in the file\n",
    "    numbers = [int(number) for number in file.readline().split(' ')]\n",
    "    k = int(numbers[0])\n",
    "    deletions = int(numbers[1])\n",
    "    paired_reads = [line.strip().split('|') for line in file.readlines()]\n",
    "print(k,\"k value\\n\", deletions, \"deletions value\\n\")"
   ]
  },
  {
   "cell_type": "code",
   "execution_count": 84,
   "metadata": {},
   "outputs": [],
   "source": [
    "# Solve the String Reconstruction from Read-Pairs Problem.\n",
    "# start with this\"\n",
    "def deBruijnGraphPairs(paired_reads):\n",
    "    k = len(paired_reads[0])\n",
    "    #print(k, \"number of reads\")\n",
    "    graph = {}\n",
    "    for pair in paired_reads:\n",
    "        #print(pair[0][:])\n",
    "        if (pair[0][:-1],pair[1][:-1]) in graph:\n",
    "            graph[(pair[0][:-1],pair[1][:-1])].append((pair[0][1:],pair[1][1:]))\n",
    "        else:\n",
    "            graph[(pair[0][:-1],pair[1][:-1])] = [(pair[0][1:],pair[1][1:])]\n",
    "    return(graph)\n",
    "\n",
    "def reconstructPairs(paired_path):\n",
    "    strings = [paired_path[0][i] + ''.join(map(lambda x: x[i][-1], paired_path[1:])) for i in range(2)]\n",
    "    text = strings[0][:k+deletions]+strings[1][:-1]\n",
    "    return(text)\n"
   ]
  },
  {
   "cell_type": "code",
   "execution_count": 93,
   "metadata": {},
   "outputs": [
    {
     "ename": "UnboundLocalError",
     "evalue": "local variable 'unbalanced_to' referenced before assignment",
     "output_type": "error",
     "traceback": [
      "\u001b[0;31m---------------------------------------------------------------------------\u001b[0m",
      "\u001b[0;31mUnboundLocalError\u001b[0m                         Traceback (most recent call last)",
      "\u001b[0;32m<ipython-input-93-08dfd777b08e>\u001b[0m in \u001b[0;36m<module>\u001b[0;34m\u001b[0m\n\u001b[1;32m      1\u001b[0m \u001b[0mpaired_dict\u001b[0m \u001b[0;34m=\u001b[0m \u001b[0mdeBruijnGraphPairs\u001b[0m\u001b[0;34m(\u001b[0m\u001b[0mpaired_reads\u001b[0m\u001b[0;34m)\u001b[0m\u001b[0;34m\u001b[0m\u001b[0;34m\u001b[0m\u001b[0m\n\u001b[0;32m----> 2\u001b[0;31m \u001b[0manswer\u001b[0m \u001b[0;34m=\u001b[0m \u001b[0meulerian_path\u001b[0m\u001b[0;34m(\u001b[0m\u001b[0mpaired_dict\u001b[0m\u001b[0;34m)\u001b[0m\u001b[0;34m\u001b[0m\u001b[0;34m\u001b[0m\u001b[0m\n\u001b[0m\u001b[1;32m      3\u001b[0m \u001b[0mreconstructPairs\u001b[0m\u001b[0;34m(\u001b[0m\u001b[0manswer\u001b[0m\u001b[0;34m)\u001b[0m\u001b[0;34m\u001b[0m\u001b[0;34m\u001b[0m\u001b[0m\n",
      "\u001b[0;32m<ipython-input-92-3ab9dd545146>\u001b[0m in \u001b[0;36meulerian_path\u001b[0;34m(edge_dict)\u001b[0m\n\u001b[1;32m     28\u001b[0m     \u001b[0;31m# Add an edge connecting the unbalanced edges.  The edge may already exist in the dictionary.\u001b[0m\u001b[0;34m\u001b[0m\u001b[0;34m\u001b[0m\u001b[0;34m\u001b[0m\u001b[0m\n\u001b[1;32m     29\u001b[0m     \u001b[0;32mif\u001b[0m \u001b[0munbalanced_from\u001b[0m \u001b[0;32min\u001b[0m \u001b[0medge_dict\u001b[0m\u001b[0;34m:\u001b[0m\u001b[0;34m\u001b[0m\u001b[0;34m\u001b[0m\u001b[0m\n\u001b[0;32m---> 30\u001b[0;31m         \u001b[0medge_dict2\u001b[0m\u001b[0;34m[\u001b[0m\u001b[0munbalanced_from\u001b[0m\u001b[0;34m]\u001b[0m\u001b[0;34m.\u001b[0m\u001b[0mappend\u001b[0m\u001b[0;34m(\u001b[0m\u001b[0munbalanced_to\u001b[0m\u001b[0;34m)\u001b[0m\u001b[0;34m\u001b[0m\u001b[0;34m\u001b[0m\u001b[0m\n\u001b[0m\u001b[1;32m     31\u001b[0m     \u001b[0;32melse\u001b[0m\u001b[0;34m:\u001b[0m\u001b[0;34m\u001b[0m\u001b[0;34m\u001b[0m\u001b[0m\n\u001b[1;32m     32\u001b[0m         \u001b[0medge_dict2\u001b[0m\u001b[0;34m[\u001b[0m\u001b[0munbalanced_from\u001b[0m\u001b[0;34m]\u001b[0m \u001b[0;34m=\u001b[0m \u001b[0;34m[\u001b[0m\u001b[0munbalanced_to\u001b[0m\u001b[0;34m]\u001b[0m\u001b[0;34m\u001b[0m\u001b[0;34m\u001b[0m\u001b[0m\n",
      "\u001b[0;31mUnboundLocalError\u001b[0m: local variable 'unbalanced_to' referenced before assignment"
     ]
    }
   ],
   "source": [
    "paired_dict = deBruijnGraphPairs(paired_reads)\n",
    "answer = eulerian_path(paired_dict)\n",
    "reconstructPairs(answer)"
   ]
  },
  {
   "cell_type": "code",
   "execution_count": 81,
   "metadata": {},
   "outputs": [
    {
     "data": {
      "text/plain": [
       "[('AA', 'CA'),\n",
       " ('AT', 'AT'),\n",
       " ('TT', 'TG'),\n",
       " ('TC', 'GC'),\n",
       " ('CA', 'CA'),\n",
       " ('CA', 'CA')]"
      ]
     },
     "execution_count": 81,
     "metadata": {},
     "output_type": "execute_result"
    }
   ],
   "source": [
    "answer"
   ]
  },
  {
   "cell_type": "code",
   "execution_count": 82,
   "metadata": {},
   "outputs": [
    {
     "name": "stdout",
     "output_type": "stream",
     "text": [
      "['AATTCAA', 'CATGCAA']\n",
      "AATTCATGCA\n"
     ]
    }
   ],
   "source": [
    "strings = [answer[0][i] + ''.join(map(lambda x: x[i][-1], answer[1:])) for i in range(2)]\n",
    "print(strings)\n",
    "text = strings[0][:k+deletions]+strings[1][:-1]\n",
    "print(text)\n",
    "#AATTCATGCA"
   ]
  }
 ],
 "metadata": {
  "kernelspec": {
   "display_name": "Python 3",
   "language": "python",
   "name": "python3"
  },
  "language_info": {
   "codemirror_mode": {
    "name": "ipython",
    "version": 3
   },
   "file_extension": ".py",
   "mimetype": "text/x-python",
   "name": "python",
   "nbconvert_exporter": "python",
   "pygments_lexer": "ipython3",
   "version": "3.7.4"
  }
 },
 "nbformat": 4,
 "nbformat_minor": 2
}
